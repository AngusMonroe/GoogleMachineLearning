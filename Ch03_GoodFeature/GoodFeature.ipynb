{
 "cells": [
  {
   "cell_type": "markdown",
   "metadata": {},
   "source": [
    "**Feature越好，分类器也就越好**\n",
    "\n",
    "好的feature能有力地说明两个类别的不同\n",
    "\n",
    "单个feature往往不完美，所以需要多个feature\n",
    "\n",
    "对于一个feature，如果不同的label中，这个feature的值分布越均匀，则这个feature的分类作用越弱,这样的feature会降低分类器的准确性\n",
    "\n",
    "好的feature应该是相互独立的，能够提供更多有效信息\n",
    "\n",
    "每个feature在分类器中都占一定的重要性，而如果feature间不独立，重要性的比重也会与原本的计划有偏差\n",
    "\n",
    "feature应当预处理地尽可能与结果直接相关\n",
    "\n",
    "有好的feature还不够，还要有好的feature之间的好的组合\n",
    "\n",
    "\n",
    "好的feature应该具有以下特点：\n",
    "1. Informative\n",
    "2. Independent\n",
    "3. Simple\n"
   ]
  },
  {
   "cell_type": "markdown",
   "metadata": {},
   "source": [
    "*以下代码用于构造数据集与绘制柱状图*"
   ]
  },
  {
   "cell_type": "code",
   "execution_count": 1,
   "metadata": {},
   "outputs": [],
   "source": [
    "import numpy as np\n",
    "import matplotlib.pyplot as plt"
   ]
  },
  {
   "cell_type": "markdown",
   "metadata": {},
   "source": [
    "每种标签各500组数据，共1000组数据"
   ]
  },
  {
   "cell_type": "code",
   "execution_count": 2,
   "metadata": {},
   "outputs": [],
   "source": [
    "# artificial data\n",
    "greyhounds = 500\n",
    "labs = 500"
   ]
  },
  {
   "cell_type": "markdown",
   "metadata": {},
   "source": [
    "按正态分布分别以28、24为均值，加减4的范围内生成随机数"
   ]
  },
  {
   "cell_type": "code",
   "execution_count": 3,
   "metadata": {},
   "outputs": [],
   "source": [
    "grey_height = 28 + 4 * np.random.randn(greyhounds)\n",
    "lab_height = 24 + 4 * np.random.randn(labs)"
   ]
  },
  {
   "cell_type": "markdown",
   "metadata": {},
   "source": [
    "绘制直方图"
   ]
  },
  {
   "cell_type": "code",
   "execution_count": 4,
   "metadata": {},
   "outputs": [
    {
     "data": {
      "image/png": "[encoded data removed]",
      "text/plain": [
       "<matplotlib.figure.Figure at 0x10ade76d8>"
      ]
     },
     "metadata": {},
     "output_type": "display_data"
    }
   ],
   "source": [
    "# show in histogram\n",
    "plt.hist([grey_height, lab_height], stacked=True, color=['r', 'b'])\n",
    "plt.show()"
   ]
  }
 ],
 "metadata": {
  "kernelspec": {
   "display_name": "Python 3",
   "language": "python",
   "name": "python3"
  },
  "language_info": {
   "codemirror_mode": {
    "name": "ipython",
    "version": 3
   },
   "file_extension": ".py",
   "mimetype": "text/x-python",
   "name": "python",
   "nbconvert_exporter": "python",
   "pygments_lexer": "ipython3",
   "version": "3.6.4"
  }
 },
 "nbformat": 4,
 "nbformat_minor": 2
}
