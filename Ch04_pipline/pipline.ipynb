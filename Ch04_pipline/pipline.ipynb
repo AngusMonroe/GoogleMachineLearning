{
 "cells": [
  {
   "cell_type": "markdown",
   "metadata": {},
   "source": [
    "### 监督学习基础套路\n",
    "\n",
    "- Train vs Test：隔离训练集，测试集以验证训练效果\n",
    "\n",
    "    把已有数据分为两部分，训练数据（Train）和测试数据（Test），训练数据来训练模型，测试数据来测试模型在新数据上运行的准确性\n",
    "    \n",
    "- 建立一个管道将x,y关联起来：f(x) = y\n",
    "\n",
    "    feature: x, label: y, classifier其实就是一个feature到label的函数\n",
    "\n",
    "\n",
    "### 可以从sklearn中import各种分类器进行训练，各种分类器有类似的接口，这些不同分类器都可以解决类似的问题\n",
    "\n",
    "\n",
    "### 让算法从数据中学习到底是什么？\n",
    "\n",
    "- 拒绝手工写分类规则代码\n",
    "\n",
    "    本质上是学习feature到label，从输入到输出的函数，从一个模型开始，用规则来定义函数\n",
    "- 根据训练数据调整函数参数\n",
    "\n",
    "    从我们发现规律的方法中，找到model\n",
    "    \n",
    "    比如一条划分两类点的线就是一个分类器的model，调整参数就能得到我们想要的分类器： \n",
    "    \n",
    "    ![classify.png](https://i.loli.net/2018/02/25/5a92d8f1b7d76.png)\n",
    "\n",
    "### Example of Neural Network：[TensorFlow PlayGround](http://playground.tensorflow.org/)"
   ]
  },
  {
   "cell_type": "code",
   "execution_count": 2,
   "metadata": {},
   "outputs": [],
   "source": [
    "# import a dataset\n",
    "from sklearn import datasets\n",
    "\n",
    "iris = datasets.load_iris()"
   ]
  },
  {
   "cell_type": "markdown",
   "metadata": {},
   "source": [
    "创建特征X和标签Y，将X、Y看做一个函数f(x)=y，x是输入，y是输出"
   ]
  },
  {
   "cell_type": "code",
   "execution_count": 3,
   "metadata": {},
   "outputs": [],
   "source": [
    "X = iris.data\n",
    "y = iris.target"
   ]
  },
  {
   "cell_type": "markdown",
   "metadata": {},
   "source": [
    "分离训练数据和测试数据，各占原数据集的一半\n",
    "\n",
    "*PS.*`sklearn.cross_validation`模块在0.18版本中被弃用，支持所有重构的类和函数都被移动到`sklearn.model_selection`模块。"
   ]
  },
  {
   "cell_type": "code",
   "execution_count": 12,
   "metadata": {},
   "outputs": [],
   "source": [
    "from sklearn.model_selection import train_test_split\n",
    "X_train, X_test, y_train, y_test = train_test_split(X, y, test_size=.5)"
   ]
  },
  {
   "cell_type": "markdown",
   "metadata": {},
   "source": [
    "建立决策树分类器"
   ]
  },
  {
   "cell_type": "code",
   "execution_count": 6,
   "metadata": {},
   "outputs": [],
   "source": [
    "# decision tree\n",
    "from sklearn import tree\n",
    "my_classifier_tree = tree.DecisionTreeClassifier()"
   ]
  },
  {
   "cell_type": "markdown",
   "metadata": {},
   "source": [
    "建立KNN分类器"
   ]
  },
  {
   "cell_type": "code",
   "execution_count": 8,
   "metadata": {},
   "outputs": [],
   "source": [
    "# KNN\n",
    "from sklearn.neighbors import KNeighborsClassifier\n",
    "my_classifier_knn = KNeighborsClassifier()"
   ]
  },
  {
   "cell_type": "markdown",
   "metadata": {},
   "source": [
    "分别对两种分类器进行训练"
   ]
  },
  {
   "cell_type": "code",
   "execution_count": 9,
   "metadata": {},
   "outputs": [
    {
     "data": {
      "text/plain": [
       "KNeighborsClassifier(algorithm='auto', leaf_size=30, metric='minkowski',\n",
       "           metric_params=None, n_jobs=1, n_neighbors=5, p=2,\n",
       "           weights='uniform')"
      ]
     },
     "execution_count": 9,
     "metadata": {},
     "output_type": "execute_result"
    }
   ],
   "source": [
    "my_classifier_tree.fit(X_train, y_train)\n",
    "my_classifier_knn.fit(X_train, y_train)"
   ]
  },
  {
   "cell_type": "markdown",
   "metadata": {},
   "source": [
    "分别对两种分类器调用预测方法，并用它来分类测试数据"
   ]
  },
  {
   "cell_type": "code",
   "execution_count": 10,
   "metadata": {},
   "outputs": [],
   "source": [
    "predictions_tree = my_classifier_tree.predict(X_test)\n",
    "predictions_knn = my_classifier_knn.predict(X_test)"
   ]
  },
  {
   "cell_type": "markdown",
   "metadata": {},
   "source": [
    "分别计算两种分类器的准确性"
   ]
  },
  {
   "cell_type": "code",
   "execution_count": 11,
   "metadata": {},
   "outputs": [
    {
     "name": "stdout",
     "output_type": "stream",
     "text": [
      "0.9466666666666667\n",
      "0.96\n"
     ]
    }
   ],
   "source": [
    "from sklearn.metrics import accuracy_score\n",
    "print(accuracy_score(y_test, predictions_tree))\n",
    "print(accuracy_score(y_test, predictions_knn))"
   ]
  }
 ],
 "metadata": {
  "kernelspec": {
   "display_name": "Python 3",
   "language": "python",
   "name": "python3"
  },
  "language_info": {
   "codemirror_mode": {
    "name": "ipython",
    "version": 3
   },
   "file_extension": ".py",
   "mimetype": "text/x-python",
   "name": "python",
   "nbconvert_exporter": "python",
   "pygments_lexer": "ipython3",
   "version": "3.6.4"
  }
 },
 "nbformat": 4,
 "nbformat_minor": 2
}
