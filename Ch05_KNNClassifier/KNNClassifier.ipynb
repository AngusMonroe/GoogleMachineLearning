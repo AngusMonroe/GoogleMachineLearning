{
 "cells": [
  {
   "cell_type": "markdown",
   "metadata": {},
   "source": [
    "# Writing a KNN Classifier\n",
    "\n",
    "### 目标\n",
    "实现一个K近邻（k-Nearest Neighbour）分类器\n",
    "\n",
    "在Ch04的基础上进行，我们在Ch04中使用了KNeighborsClassifier()作为分类器，现在我们要实现这个分类器\n",
    "\n",
    "### K Nearest Neighbour\n",
    "![knn.png](https://i.loli.net/2018/02/26/5a9373e9d852d.png)\n",
    "- 对于一个测试点，看它最近的邻居属于那个类别\n",
    "- 考虑最近邻居的时候，我们可以综合考虑与这个点距离最近的K个点，看它们中有多少输入类别A，多少属于类别B（本算法中K取1）\n",
    "- 距离：两点间的直线距离（欧氏距离，Euclidean Distance）\n",
    "\n",
    "    ![eucl_dist.png](https://i.loli.net/2018/02/26/5a9374270754f.png)\n",
    "\n",
    "- 即考虑各个feature之间差异的平方和（在这里不考虑各feature的权重）\n",
    "\n",
    "### 实现\n",
    "ScrappyKNN：最简单的一个K近邻分类器\n",
    "\n",
    "- 接口：\n",
    "\n",
    " - fit：用于训练，将训练集的feature和label作为输入\n",
    " \n",
    " - predict: prediction，将测试集的feature作为输入，输出预测的label\n",
    " \n",
    "- Random Classifier\n",
    "\n",
    "    随机挑一个label作为预测输出，由于我们是在三种花的结果中随机挑取一种花作为结果，所以结果大概在33%\n",
    "\n",
    "KNN:\n",
    "\n",
    "- 本算法中，设置K=1，也就是我们只考虑最近的那个点属于那个类别\n",
    "\n",
    "- 用scipy.spatial.distance来计算距离\n",
    "\n",
    "- 返回测试点最近邻的label\n",
    "\n",
    "结论：\n",
    "\n",
    "- 准确率：90%以上（这里也可能看出feature选得好的重要性）\n",
    "\n",
    "- 优点：非常简单，易于理解\n",
    "\n",
    "- 缺点：耗时（需要遍历所有训练点）；很难表示特征之间的关系"
   ]
  },
  {
   "cell_type": "markdown",
   "metadata": {},
   "source": [
    "计算a,b两点的欧氏距离"
   ]
  },
  {
   "cell_type": "code",
   "execution_count": 1,
   "metadata": {},
   "outputs": [],
   "source": [
    "import random\n",
    "from scipy.spatial import distance\n",
    "\n",
    "def euc(a, b):\n",
    "    return distance.euclidean(a, b)"
   ]
  },
  {
   "cell_type": "markdown",
   "metadata": {},
   "source": [
    "ScrappyKNN函数（最近邻分类器）"
   ]
  },
  {
   "cell_type": "code",
   "execution_count": 2,
   "metadata": {},
   "outputs": [],
   "source": [
    "class ScrappyKNN():\n",
    "    def __init__(self):\n",
    "        pass\n",
    "\n",
    "    def fit(self, X_train, y_train):\n",
    "        self.X_train = X_train\n",
    "        self.y_train = y_train\n",
    "\n",
    "    def predict(self, X_test):\n",
    "        predictions = []\n",
    "        for row in X_test:\n",
    "            # randomly choose a label in all labels\n",
    "            # label = random.choice(self.y_train)\n",
    "            label = self.closest(row)\n",
    "            predictions.append(label)\n",
    "        return predictions\n",
    "\n",
    "    def closest(self, row):\n",
    "        best_dist = euc(row, self.X_train[0])\n",
    "        best_index = 0\n",
    "        for i in range(1, len(self.X_train)):\n",
    "            dist = euc(row, self.X_train[i])\n",
    "            if dist < best_dist:\n",
    "                best_dist = dist\n",
    "                best_index = i\n",
    "        return self.y_train[best_index]"
   ]
  },
  {
   "cell_type": "markdown",
   "metadata": {},
   "source": [
    "获取数据集"
   ]
  },
  {
   "cell_type": "code",
   "execution_count": 3,
   "metadata": {},
   "outputs": [],
   "source": [
    "from sklearn import datasets\n",
    "iris = datasets.load_iris()"
   ]
  },
  {
   "cell_type": "markdown",
   "metadata": {},
   "source": [
    "创建特征X和标签Y，将X、Y看做一个函数f(x)=y，x是输入，y是输出"
   ]
  },
  {
   "cell_type": "code",
   "execution_count": 4,
   "metadata": {},
   "outputs": [],
   "source": [
    "X = iris.data\n",
    "y = iris.target"
   ]
  },
  {
   "cell_type": "markdown",
   "metadata": {},
   "source": [
    "分离训练数据和测试数据，各占原数据集的一半\n",
    "\n",
    "*PS.*`sklearn.cross_validation`模块在0.18版本中被弃用，支持所有重构的类和函数都被移动到`sklearn.model_selection`模块。"
   ]
  },
  {
   "cell_type": "code",
   "execution_count": 5,
   "metadata": {},
   "outputs": [],
   "source": [
    "from sklearn.model_selection import train_test_split\n",
    "X_train, X_test, y_train, y_test = train_test_split(X, y, test_size=.5)"
   ]
  },
  {
   "cell_type": "markdown",
   "metadata": {},
   "source": [
    "建立KNN分类器"
   ]
  },
  {
   "cell_type": "code",
   "execution_count": 6,
   "metadata": {},
   "outputs": [],
   "source": [
    "my_classifier = ScrappyKNN()"
   ]
  },
  {
   "cell_type": "markdown",
   "metadata": {},
   "source": [
    "对分类器进行训练"
   ]
  },
  {
   "cell_type": "code",
   "execution_count": 7,
   "metadata": {},
   "outputs": [],
   "source": [
    "my_classifier.fit(X_train, y_train)"
   ]
  },
  {
   "cell_type": "markdown",
   "metadata": {},
   "source": [
    "对分类器调用预测方法，并用它来分类测试数据"
   ]
  },
  {
   "cell_type": "code",
   "execution_count": 8,
   "metadata": {},
   "outputs": [],
   "source": [
    "predictions = my_classifier.predict(X_test)"
   ]
  },
  {
   "cell_type": "markdown",
   "metadata": {},
   "source": [
    "计算分类器的准确性"
   ]
  },
  {
   "cell_type": "code",
   "execution_count": 9,
   "metadata": {},
   "outputs": [
    {
     "name": "stdout",
     "output_type": "stream",
     "text": [
      "0.9733333333333334\n"
     ]
    }
   ],
   "source": [
    "from sklearn.metrics import accuracy_score\n",
    "print(accuracy_score(y_test, predictions))"
   ]
  }
 ],
 "metadata": {
  "kernelspec": {
   "display_name": "Python 3",
   "language": "python",
   "name": "python3"
  },
  "language_info": {
   "codemirror_mode": {
    "name": "ipython",
    "version": 3
   },
   "file_extension": ".py",
   "mimetype": "text/x-python",
   "name": "python",
   "nbconvert_exporter": "python",
   "pygments_lexer": "ipython3",
   "version": "3.6.4"
  }
 },
 "nbformat": 4,
 "nbformat_minor": 2
}
